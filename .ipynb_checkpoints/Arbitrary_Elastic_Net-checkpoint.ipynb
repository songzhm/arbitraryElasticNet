{
 "cells": [
  {
   "cell_type": "code",
   "execution_count": 2,
   "metadata": {
    "ExecuteTime": {
     "end_time": "2019-04-16T13:22:25.722972Z",
     "start_time": "2019-04-16T13:22:25.174174Z"
    },
    "collapsed": true
   },
   "outputs": [],
   "source": [
    "import numpy as np\n",
    "from math import sqrt\n",
    "import copy\n",
    "import scipy.linalg\n",
    "import matplotlib.pyplot as plt\n",
    "import random"
   ]
  },
  {
   "cell_type": "code",
   "execution_count": 5,
   "metadata": {
    "ExecuteTime": {
     "end_time": "2019-04-16T13:23:19.746920Z",
     "start_time": "2019-04-16T13:23:19.612442Z"
    },
    "collapsed": false
   },
   "outputs": [],
   "source": [
    "class gelasticnetSover(object):\n",
    "\n",
    "    def mulup_solve(self,Amat, lowbo,upbo, bvec,err_tol = 1e-8, text='Off', text_fr=200):\n",
    "        A_plus = copy.deepcopy(Amat)\n",
    "        A_plus[A_plus<0]=0\n",
    "\n",
    "        A_minus = copy.deepcopy(Amat)\n",
    "        A_minus[A_minus>0]=0\n",
    "        A_minus = abs(A_minus)\n",
    "\n",
    "        v = np.array([1.0 for x in range(len(bvec))])       \n",
    "        old_v = np.array([0 for x in range(len(bvec))])\n",
    "        updateFactor = np.array([0.0 for x in range(len(bvec))])\n",
    "        count=0\n",
    "        while(((old_v-v)**2).sum()>err_tol):\n",
    "            dFa = np.array(A_plus.dot(v))\n",
    "            dFb = copy.deepcopy(bvec)\n",
    "            dFc = np.array(A_minus.dot(v))\n",
    "            for i in range(len(bvec)):\n",
    "                updateFactor[i] = float((-dFb[i]+sqrt(dFb[i]**2+4*dFa[i]*dFc[i]))/(2*dFa[i]))\n",
    "            if np.count_nonzero(~np.isnan(updateFactor)) ==len(bvec):\n",
    "                old_v = copy.deepcopy(v)\n",
    "                beta = np.maximum(np.minimum(upbo, (updateFactor * v)[:int(len(v)/2)]-(updateFactor * v)[int(len(v)/2):]), lowbo)\n",
    "                v=[max(item,0) for item in beta]+[abs(min(item,0)) for item in beta]\n",
    "                v=np.array(v)\n",
    "            else:\n",
    "                break\n",
    "            if (count % text_fr == 0) & (text == 'On'):\n",
    "                print(((old_v-v)**2).sum())\n",
    "            count+=1\n",
    "        return v\n",
    "    \n",
    "    \n",
    "    def solve(self, Xmat, Yvec, lam_1, lam_2, lowbo, upbo, dvec, Pmat, err_tol = 1e-8, text='Off', text_fr=200):  \n",
    "        \"\"\"Xmat, Yvec, lowbo, upbo, dvec, Pmat,: numpy array;\n",
    "           lam_1, lam_2: float; \"\"\"\n",
    "        p = Xmat.shape[1]\n",
    "        Amat = Xmat.transpose().dot(Xmat) + lam_2*Pmat\n",
    "        bvec = 2*Xmat.transpose().dot(Yvec)\n",
    "        Amat = 2*Amat\n",
    "        A_1=np.concatenate((Amat,-Amat),axis=1) \n",
    "        A_2=np.concatenate((-Amat,Amat),axis=1)                                   \n",
    "        A=np.concatenate((A_1, A_2))\n",
    "        b=np.concatenate((-bvec+lam_1*dvec,bvec+lam_1*dvec))                             \n",
    "        v=self.mulup_solve(A, lowbo,upbo, b,err_tol , text, text_fr)   \n",
    "        beta = v[:int(len(v)/2)]-v[int(len(v)/2):]\n",
    "        return beta \n",
    "    \n",
    "# To solve prob: Yvec=Xmat*beta\n",
    "\n",
    "# Example of input\n",
    "# Xmat = np.random.randn(N,K)\n",
    "# Yvec = np.random.randn(N)\n",
    "# lam_1 = 0.0034 \n",
    "# lam_2 = 0\n",
    "# Pmat = np.diag([1]*K)\n",
    "# dvec = np.ones(K)\n",
    "# lowbo = -1*np.ones(N)\n",
    "# upbo = 1*np.ones(N)"
   ]
  },
  {
   "cell_type": "code",
   "execution_count": null,
   "metadata": {
    "collapsed": true
   },
   "outputs": [],
   "source": [
    ""
   ]
  }
 ],
 "metadata": {
  "kernelspec": {
   "display_name": "Python 3",
   "language": "python",
   "name": "python3"
  },
  "language_info": {
   "codemirror_mode": {
    "name": "ipython",
    "version": 3.0
   },
   "file_extension": ".py",
   "mimetype": "text/x-python",
   "name": "python",
   "nbconvert_exporter": "python",
   "pygments_lexer": "ipython3",
   "version": "3.6.0"
  },
  "varInspector": {
   "cols": {
    "lenName": 16.0,
    "lenType": 16.0,
    "lenVar": 40.0
   },
   "kernels_config": {
    "python": {
     "delete_cmd_postfix": "",
     "delete_cmd_prefix": "del ",
     "library": "var_list.py",
     "varRefreshCmd": "print(var_dic_list())"
    },
    "r": {
     "delete_cmd_postfix": ") ",
     "delete_cmd_prefix": "rm(",
     "library": "var_list.r",
     "varRefreshCmd": "cat(var_dic_list()) "
    }
   },
   "types_to_exclude": [
    "module",
    "function",
    "builtin_function_or_method",
    "instance",
    "_Feature"
   ],
   "window_display": false
  }
 },
 "nbformat": 4,
 "nbformat_minor": 0
}