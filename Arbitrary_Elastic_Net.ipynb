{
 "cells": [
  {
   "cell_type": "code",
   "execution_count": 6,
   "metadata": {
    "ExecuteTime": {
     "end_time": "2019-04-16T13:26:34.682289Z",
     "start_time": "2019-04-16T13:26:34.676744Z"
    },
    "collapsed": true
   },
   "outputs": [],
   "source": [
    "import numpy as np\n",
    "from math import sqrt\n",
    "import copy\n",
    "import scipy.linalg\n",
    "import matplotlib.pyplot as plt\n",
    "import random"
   ]
  },
  {
   "cell_type": "code",
   "execution_count": 7,
   "metadata": {
    "ExecuteTime": {
     "end_time": "2019-04-16T13:26:35.287934Z",
     "start_time": "2019-04-16T13:26:35.196551Z"
    },
    "collapsed": true
   },
   "outputs": [],
   "source": [
    "class gelasticnetSover(object):\n",
    "\n",
    "    def mulup_solve(self,Amat, lowbo,upbo, bvec,err_tol = 1e-8, text='Off', text_fr=200):\n",
    "        A_plus = copy.deepcopy(Amat)\n",
    "        A_plus[A_plus<0]=0\n",
    "\n",
    "        A_minus = copy.deepcopy(Amat)\n",
    "        A_minus[A_minus>0]=0\n",
    "        A_minus = abs(A_minus)\n",
    "\n",
    "        v = np.array([1.0 for x in range(len(bvec))])\n",
    "        \n",
    "        old_v = np.array([0 for x in range(len(bvec))])\n",
    "        updateFactor = np.array([0.0 for x in range(len(bvec))])\n",
    "        count=0\n",
    "        while(((old_v-v)**2).sum()>err_tol):\n",
    "            dFa = np.array(A_plus.dot(v))\n",
    "            dFb = copy.deepcopy(bvec)\n",
    "            dFc = np.array(A_minus.dot(v))\n",
    "            for i in range(len(bvec)):\n",
    "                updateFactor[i] = float((-dFb[i]+sqrt(dFb[i]**2+4*dFa[i]*dFc[i]))/(2*dFa[i]))\n",
    "\n",
    "            if np.count_nonzero(~np.isnan(updateFactor)) ==len(bvec):\n",
    "                old_v = copy.deepcopy(v)\n",
    "                beta = np.maximum(np.minimum(upbo, (updateFactor * v)[:int(len(v)/2)]-(updateFactor * v)[int(len(v)/2):]), lowbo)\n",
    "                v=[max(item,0) for item in beta]+[abs(min(item,0)) for item in beta]\n",
    "                v=np.array(v)\n",
    "            else:\n",
    "                break\n",
    "            if (count % text_fr == 0) & (text == 'On'):\n",
    "                print(((old_v-v)**2).sum())\n",
    "            count+=1\n",
    "        return v\n",
    "    \n",
    "    \n",
    "    def solve(self, Xmat, Yvec, lam_1, lam_2, lowbo, upbo, dvec, Pmat, err_tol = 1e-8, text='Off', text_fr=200):  \n",
    "        \"\"\"Xmat, Yvec, lowbo, upbo, dvec, Pmat,: numpy array;\n",
    "           lam_1, lam_2: float; \"\"\"\n",
    "        # p = Xmat.shape[1]\n",
    "        Amat = Xmat.transpose().dot(Xmat) + lam_2*Pmat\n",
    "        bvec = 2*Xmat.transpose().dot(Yvec)\n",
    "        Amat = 2*Amat\n",
    "        A_1=np.concatenate((Amat,-Amat),axis=1) \n",
    "        A_2=np.concatenate((-Amat,Amat),axis=1)                                   \n",
    "        A=np.concatenate((A_1, A_2))\n",
    "        b=np.concatenate((-bvec+lam_1*dvec,bvec+lam_1*dvec))\n",
    "                                          \n",
    "        v=self.mulup_solve(A, lowbo,upbo, b,err_tol , text, text_fr)        \n",
    "        beta = v[:int(len(v)/2)]-v[int(len(v)/2):]\n",
    "        return beta   #, plo\n",
    "    \n",
    "# To solve prob: Yvec=Xmat*beta\n",
    "\n",
    "# Example of input\n",
    "# Xmat = np.random.randn(N,K)\n",
    "# Yvec = np.random.randn(N)\n",
    "# lam_1 = 0.0034 \n",
    "# lam_2 = 0\n",
    "# Pmat = np.diag([1]*K)\n",
    "# dvec = np.ones(K)\n",
    "# lowbo = -1*np.ones(N)\n",
    "# upbo = 1*np.ones(N)"
   ]
  },
  {
   "cell_type": "code",
   "execution_count": 8,
   "metadata": {
    "ExecuteTime": {
     "end_time": "2019-04-16T13:27:03.555057Z",
     "start_time": "2019-04-16T13:27:03.495914Z"
    },
    "collapsed": true
   },
   "outputs": [],
   "source": [
    "## generating signal\n",
    "\n",
    "# signal length\n",
    "N=400\n",
    "# number of spikes in the signal\n",
    "T=16\n",
    "# number of observations to make\n",
    "K=102\n",
    "random.seed(0)\n",
    "# random +/- 1 signal\n",
    "x=np.zeros((N,1))\n",
    "q=np.random.permutation(N)\n",
    "x[q[0:T]]=np.sign(np.random.randn(T,1))\n",
    "\n",
    "# measurement matrix\n",
    "A = np.random.randn(K,N)\n",
    "A = scipy.linalg.orth(A.transpose()).transpose()\n",
    "\n",
    "# observations\n",
    "y = np.reshape(A.dot(x),(A.dot(x).shape[0],))\n",
    "\n",
    "## solve the en problem\n",
    "s = gelasticnetSover()"
   ]
  },
  {
   "cell_type": "code",
   "execution_count": 9,
   "metadata": {
    "ExecuteTime": {
     "end_time": "2019-04-16T13:27:31.129196Z",
     "start_time": "2019-04-16T13:27:20.798410Z"
    },
    "collapsed": true
   },
   "outputs": [],
   "source": [
    "## parameters setting\n",
    "lam_1 = 0.0034 #0.01*np.linalg.norm((A.transpose()).dot(y),np.inf) #0.0034\n",
    "lam_2 = 0\n",
    "p = A.shape[1]\n",
    "# Pmat = np.random.randn(p,p)\n",
    "# Pmat=(Pmat + Pmat.T)/2\n",
    "Pmat=np.ones((p,p))\n",
    "# dvec = abs(np.random.random(p))\n",
    "dvec = np.ones(p)\n",
    "lowbo=-1*np.ones(N)\n",
    "upbo=1*np.ones(N)\n",
    "coeffs=s.solve(A,y,lam_1,lam_2,lowbo,upbo,dvec, Pmat,err_tol=1e-8, text_fr=1000)"
   ]
  },
  {
   "cell_type": "code",
   "execution_count": 11,
   "metadata": {
    "ExecuteTime": {
     "end_time": "2019-04-16T13:27:54.781192Z",
     "start_time": "2019-04-16T13:27:54.370416Z"
    },
    "collapsed": false
   },
   "outputs": [
    {
     "data": {
      "image/png": "[encoded data removed]",
      "text/plain": [
       "<Figure size 432x288 with 2 Axes>"
      ]
     },
     "metadata": {},
     "output_type": "display_data"
    },
    {
     "name": "stdout",
     "output_type": "stream",
     "text": [
      "mse:  2.026700529025995e-05\n"
     ]
    }
   ],
   "source": [
    "plt.subplot(1, 2, 1)\n",
    "plt.plot(coeffs)\n",
    "plt.subplot(1, 2, 2)\n",
    "plt.plot(x)\n",
    "plt.show()\n",
    "print('mse: ',np.sum((coeffs.reshape(x.shape)-x)**2)/len(x))"
   ]
  },
  {
   "cell_type": "code",
   "execution_count": null,
   "metadata": {
    "collapsed": true
   },
   "outputs": [],
   "source": [
    ""
   ]
  }
 ],
 "metadata": {
  "kernelspec": {
   "display_name": "Python 3",
   "language": "python",
   "name": "python3"
  },
  "language_info": {
   "codemirror_mode": {
    "name": "ipython",
    "version": 3.0
   },
   "file_extension": ".py",
   "mimetype": "text/x-python",
   "name": "python",
   "nbconvert_exporter": "python",
   "pygments_lexer": "ipython3",
   "version": "3.6.0"
  },
  "varInspector": {
   "cols": {
    "lenName": 16.0,
    "lenType": 16.0,
    "lenVar": 40.0
   },
   "kernels_config": {
    "python": {
     "delete_cmd_postfix": "",
     "delete_cmd_prefix": "del ",
     "library": "var_list.py",
     "varRefreshCmd": "print(var_dic_list())"
    },
    "r": {
     "delete_cmd_postfix": ") ",
     "delete_cmd_prefix": "rm(",
     "library": "var_list.r",
     "varRefreshCmd": "cat(var_dic_list()) "
    }
   },
   "types_to_exclude": [
    "module",
    "function",
    "builtin_function_or_method",
    "instance",
    "_Feature"
   ],
   "window_display": false
  }
 },
 "nbformat": 4,
 "nbformat_minor": 0
}