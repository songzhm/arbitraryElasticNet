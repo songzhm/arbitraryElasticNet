{
 "cells": [
  {
   "cell_type": "code",
   "execution_count": 67,
   "id": "seven-steam",
   "metadata": {},
   "outputs": [],
   "source": [
    "import optuna\n",
    "from tqdm.notebook import tqdm\n",
    "import multiprocessing\n",
    "from joblib import Parallel, delayed\n",
    "from production.ARGEN import *\n",
    "from production.utility_function import *\n",
    "import numpy as np"
   ]
  },
  {
   "cell_type": "code",
   "execution_count": 68,
   "id": "statewide-syntax",
   "metadata": {},
   "outputs": [],
   "source": [
    "# configuration\n",
    "\n",
    "target_component_number=50\n",
    "lower_bound = 0.0041\n",
    "upper_bound = 0.8\n",
    "training_month=12\n",
    "optuna_trial_number = 500\n",
    "optuna_study_name = 'buy-and-hold-study-arls-vs-argen-up-0.6-n-50-s-500'\n",
    "\n",
    "\n"
   ]
  },
  {
   "cell_type": "code",
   "execution_count": 69,
   "id": "adolescent-johns",
   "metadata": {},
   "outputs": [
    {
     "name": "stderr",
     "output_type": "stream",
     "text": [
      "/home/jovyan/work/production/utility_function.py:101: FutureWarning: The pandas.datetime class is deprecated and will be removed from pandas in a future version. Import from datetime module instead.\n",
      "  def mydateparser(x): return pd.datetime.strptime(x, \"%Y-%m-%d\")\n"
     ]
    },
    {
     "name": "stdout",
     "output_type": "stream",
     "text": [
      "arls_val_score 4.6714385173885905e-06 arls_test_score 2.265148216421383e-05\n"
     ]
    }
   ],
   "source": [
    "\n",
    "data = get_data()\n",
    "\n",
    "X = data['X']\n",
    "y = data['y']\n",
    "dates = data['dates']\n",
    "\n",
    "time_vec = np.array(list(range(1, X.shape[0] + 1))) - 1\n",
    "\n",
    "_, p = X.shape\n",
    "\n",
    "update_frequency = 'buy-and-hold'\n",
    "\n",
    "\n",
    "training_val_index, testing_index = get_data_index(time_vec, update_frequency, training_month)\n",
    "\n",
    "training_val_ind = training_val_index[0]\n",
    "training_ind, val_ind = training_val_ind[0:-int(len(training_val_ind)*0.2)], training_val_ind[-int(len(training_val_ind)*0.2)::]\n",
    "testing_ind = testing_index[0]\n",
    "\n",
    "X_train = X[training_ind, :]\n",
    "X_val = X[val_ind, :]\n",
    "X_test = X[testing_ind, :]\n",
    "y_train = y[training_ind]\n",
    "y_val = y[val_ind]\n",
    "y_test = y[testing_ind]\n",
    "\n",
    "fs_clf = FeatureSelectionRegressor(p, target_component_number)\n",
    "\n",
    "fs_clf.fit(X_train, y_train)\n",
    "fs_clf.score(X_test, y_test)\n",
    "\n",
    "selected_feature_ind = np.where(fs_clf.coef_ != 0.0)[0]\n",
    "\n",
    "X_train_ = X_train[:, selected_feature_ind]\n",
    "X_val_ = X_val[:, selected_feature_ind]\n",
    "X_test_ = X_test[:, selected_feature_ind]\n",
    "\n",
    "_, p_ = X_train_.shape\n",
    "\n",
    "lowbo = np.ones(p_) * lower_bound\n",
    "upbo = np.ones(p_) * upper_bound\n",
    "\n",
    "# lowbo = np.ones(p_) * 0.0041\n",
    "# upbo = np.ones(p_) * 0.8\n",
    "\n",
    "\n",
    "#%%\n",
    "arls_clf = ARGEN(p_, 0, 0, lowbo, upbo, 0, 0)\n",
    "\n",
    "arls_clf.fit(X_train_, y_train)\n",
    "\n",
    "coef_ = arls_clf.coef_\n",
    "\n",
    "arls_coef = coef_/np.sum(coef_)\n",
    "\n",
    "arls_val_score = arls_clf.score(X_val_, y_val)\n",
    "\n",
    "arls_test_score = arls_clf.score(X_test_, y_test)\n",
    "\n",
    "print('arls_val_score', arls_val_score, 'arls_test_score', arls_test_score)\n",
    "\n",
    "arls_portfolio_return_test = np.matmul(X_test_, arls_coef.reshape((-1, 1)))\n"
   ]
  },
  {
   "cell_type": "code",
   "execution_count": 70,
   "id": "amazing-river",
   "metadata": {},
   "outputs": [
    {
     "name": "stdout",
     "output_type": "stream",
     "text": [
      "MSE 2.265148216421383e-05\n",
      "AV 0.24295350743632715\n",
      "TE 0.020075083485919975\n",
      "CR 1.1285534755839084\n"
     ]
    }
   ],
   "source": [
    "print('MSE', arls_clf.score(X_test_, y_test))\n",
    "print('AV', calculated_annual_volatility(arls_portfolio_return_test))\n",
    "print('TE', calculate_daily_tracking_error(arls_portfolio_return_test, y_test))\n",
    "print('CR', calculate_cumulative_return(arls_portfolio_return_test))\n"
   ]
  },
  {
   "cell_type": "code",
   "execution_count": 71,
   "id": "legitimate-large",
   "metadata": {},
   "outputs": [
    {
     "name": "stderr",
     "output_type": "stream",
     "text": [
      "\u001b[32m[I 2021-03-21 19:29:50,889]\u001b[0m Using an existing study with name 'buy-and-hold-study-arls-vs-argen-up-0.6-n-50-s-500' instead of creating a new one.\u001b[0m\n"
     ]
    },
    {
     "data": {
      "application/vnd.jupyter.widget-view+json": {
       "model_id": "6871360803fa4785b4c40c2123906139",
       "version_major": 2,
       "version_minor": 0
      },
      "text/plain": [
       "  0%|          | 0/118 [00:00<?, ?it/s]"
      ]
     },
     "metadata": {},
     "output_type": "display_data"
    },
    {
     "name": "stdout",
     "output_type": "stream",
     "text": [
      "min, mean, and max test scores\n",
      "2.319831961749319e-05 3.0425751995199842e-05 4.899643551391322e-05\n"
     ]
    },
    {
     "name": "stderr",
     "output_type": "stream",
     "text": [
      "<ipython-input-71-3b5be1360482>:27: SettingWithCopyWarning: \n",
      "A value is trying to be set on a copy of a slice from a DataFrame.\n",
      "Try using .loc[row_indexer,col_indexer] = value instead\n",
      "\n",
      "See the caveats in the documentation: https://pandas.pydata.org/pandas-docs/stable/user_guide/indexing.html#returning-a-view-versus-a-copy\n",
      "  valid_coef_df['test_score'] = Parallel(n_jobs=num_cores)(delayed(get_test_score)(coef) for coef in inputs)\n"
     ]
    }
   ],
   "source": [
    "# retrive validation hyperparameter tunning results\n",
    "\n",
    "study_name = optuna_study_name  # Unique identifier of the study.\n",
    "\n",
    "study = optuna.create_study(study_name=study_name,\n",
    "                            storage='postgresql://argen:argen@db:5432/argen',\n",
    "                            load_if_exists=True)\n",
    "\n",
    "df = study.trials_dataframe()\n",
    "\n",
    "valid_coef_df = df[df.value<arls_val_score]\n",
    "\n",
    "def get_test_score(coef):\n",
    "    arls_clf = ARGEN(p_, lam_1=coef['params_lam_1'], lam_2=coef['params_lam_2'], lowbo=lowbo, upbo=upbo, \n",
    "                     wvec_random_state=coef['params_wvec_random_state'], \n",
    "                     sigma_random_state=coef['params_sigma_random_state'])\n",
    "    arls_clf.fit(X_train_, y_train)\n",
    "    return arls_clf.score(X_test_, y_test)\n",
    "\n",
    "\n",
    "param_list = [coef for ind, coef in valid_coef_df.iterrows()]\n",
    "\n",
    "num_cores = multiprocessing.cpu_count()\n",
    "\n",
    "inputs = tqdm(param_list)\n",
    "\n",
    "valid_coef_df['test_score'] = Parallel(n_jobs=num_cores)(delayed(get_test_score)(coef) for coef in inputs)\n",
    "\n",
    "print('min, mean, and max test scores')\n",
    "print(valid_coef_df['test_score'].min(), valid_coef_df['test_score'].mean(),  valid_coef_df['test_score'].max())\n"
   ]
  },
  {
   "cell_type": "code",
   "execution_count": 72,
   "id": "incorrect-responsibility",
   "metadata": {},
   "outputs": [],
   "source": [
    "\n",
    "# best parameter from the val scores\n",
    "min_val_score_coef = df[df.value == df.value.min()]\n",
    "\n",
    "argen_clf = ARGEN(p_, lam_1=min_val_score_coef['params_lam_1'].values[0],\n",
    "                 lam_2=min_val_score_coef['params_lam_2'].values[0],\n",
    "                 lowbo=lowbo, upbo=upbo, \n",
    "                 wvec_random_state=min_val_score_coef['params_wvec_random_state'].values[0], \n",
    "                 sigma_random_state=min_val_score_coef['params_sigma_random_state'].values[0])\n",
    "\n",
    "argen_clf.fit(X_train_, y_train)\n",
    "\n",
    "argen_coef = argen_clf.coef_/sum(coef_)\n",
    "\n",
    "argen_portfolio_return_test = np.matmul(X_test_, argen_coef.reshape((-1, 1)))\n",
    "\n"
   ]
  },
  {
   "cell_type": "code",
   "execution_count": 73,
   "id": "pregnant-transaction",
   "metadata": {},
   "outputs": [
    {
     "name": "stdout",
     "output_type": "stream",
     "text": [
      "MSE 2.7168860417203135e-05 2.265148216421383e-05\n",
      "AV 0.22917847381703033 0.24295350743632715 0.206232527550782\n",
      "TE 0.01942166073942521 0.020075083485919975\n",
      "CR 1.0029043519800602 1.1285534755839084 0.6646974259514793\n"
     ]
    }
   ],
   "source": [
    "print('MSE', argen_clf.score(X_test_, y_test), arls_clf.score(X_test_, y_test))\n",
    "print('AV', calculated_annual_volatility(argen_portfolio_return_test), calculated_annual_volatility(arls_portfolio_return_test), calculated_annual_volatility(y_test))\n",
    "print('TE', calculate_daily_tracking_error(argen_portfolio_return_test, y_test), calculate_daily_tracking_error(arls_portfolio_return_test, y_test))\n",
    "print('CR', calculate_cumulative_return(argen_portfolio_return_test), calculate_cumulative_return(arls_portfolio_return_test), calculate_cumulative_return(y_test))\n"
   ]
  },
  {
   "cell_type": "code",
   "execution_count": null,
   "id": "incoming-hometown",
   "metadata": {},
   "outputs": [],
   "source": []
  },
  {
   "cell_type": "code",
   "execution_count": null,
   "id": "southeast-march",
   "metadata": {},
   "outputs": [],
   "source": []
  },
  {
   "cell_type": "code",
   "execution_count": null,
   "id": "respiratory-norwegian",
   "metadata": {},
   "outputs": [],
   "source": []
  },
  {
   "cell_type": "code",
   "execution_count": null,
   "id": "upper-mexican",
   "metadata": {},
   "outputs": [],
   "source": []
  },
  {
   "cell_type": "code",
   "execution_count": null,
   "id": "impossible-murray",
   "metadata": {},
   "outputs": [],
   "source": []
  }
 ],
 "metadata": {
  "kernelspec": {
   "display_name": "Python 3",
   "language": "python",
   "name": "python3"
  },
  "language_info": {
   "codemirror_mode": {
    "name": "ipython",
    "version": 3
   },
   "file_extension": ".py",
   "mimetype": "text/x-python",
   "name": "python",
   "nbconvert_exporter": "python",
   "pygments_lexer": "ipython3",
   "version": "3.8.6"
  }
 },
 "nbformat": 4,
 "nbformat_minor": 5
}
