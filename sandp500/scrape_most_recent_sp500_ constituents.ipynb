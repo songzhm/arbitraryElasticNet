{
 "cells": [
  {
   "cell_type": "code",
   "execution_count": 5,
   "metadata": {},
   "outputs": [
    {
     "ename": "ImportError",
     "evalue": "cannot import name 'get_common_sp500_stock_ticker' from 'sandp500.get_common_sp500_stock_tickers' (/Users/zhengmingsong/Documents/GitHub/arbitraryElasticNet/sandp500/get_common_sp500_stock_tickers.py)",
     "output_type": "error",
     "traceback": [
      "\u001B[0;31m---------------------------------------------------------------------------\u001B[0m",
      "\u001B[0;31mImportError\u001B[0m                               Traceback (most recent call last)",
      "\u001B[0;32m<ipython-input-5-dc90ebeb3198>\u001B[0m in \u001B[0;36m<module>\u001B[0;34m\u001B[0m\n\u001B[0;32m----> 1\u001B[0;31m \u001B[0;32mfrom\u001B[0m \u001B[0msandp500\u001B[0m\u001B[0;34m.\u001B[0m\u001B[0mget_common_sp500_stock_tickers\u001B[0m \u001B[0;32mimport\u001B[0m \u001B[0mget_common_sp500_stock_ticker\u001B[0m\u001B[0;34m\u001B[0m\u001B[0;34m\u001B[0m\u001B[0m\n\u001B[0m\u001B[1;32m      2\u001B[0m \u001B[0;34m\u001B[0m\u001B[0m\n\u001B[1;32m      3\u001B[0m \u001B[0;34m\u001B[0m\u001B[0m\n",
      "\u001B[0;31mImportError\u001B[0m: cannot import name 'get_common_sp500_stock_ticker' from 'sandp500.get_common_sp500_stock_tickers' (/Users/zhengmingsong/Documents/GitHub/arbitraryElasticNet/sandp500/get_common_sp500_stock_tickers.py)"
     ]
    }
   ],
   "source": [
    "from sandp500.get_common_sp500_stock_tickers import get_common_sp500_stock_tickers\n",
    "import pandas_datareader as pdr"
   ]
  },
  {
   "cell_type": "code",
   "execution_count": 2,
   "metadata": {},
   "outputs": [],
   "source": [
    "from datetime import date\n",
    "from dateutil.relativedelta import relativedelta\n",
    "import pandas as pd\n",
    "\n",
    "from time import sleep\n",
    "import random\n",
    "\n",
    "\n",
    "n_year=5\n",
    "end_date = date.today()\n",
    "start_date = end_date - relativedelta(years=n_year)\n",
    "common_sp500_tickers = get_common_sp500_stock_tickers(start_date,end_date)\n",
    "common_sp500_tickers = [x.replace(\".\",\"_\") for x in common_sp500_tickers]"
   ]
  },
  {
   "cell_type": "code",
   "execution_count": 4,
   "metadata": {},
   "outputs": [],
   "source": [
    "def download_stock(args):\n",
    "    stock, start_date, end_date = args\n",
    "    sleep(random.randint(0,3000)/1000)\n",
    "    try:\n",
    "#         print(stock)\n",
    "        output_name = './individual_stock/'+stock + '_data.csv'\n",
    "        rder = pdr.stooq.StooqDailyReader(stock, start=start_date, end=end_date)\n",
    "        # rder = pdr.tiingo.TiingoDailyReader(stock, start=start_date, end=end_date, api_key='dc356db40532fd464d0ebaf06dd9d114fb49db1b')\n",
    "        stock_df = rder.read()\n",
    "        stock_df.to_csv(output_name)\n",
    "        rder.close()\n",
    "        return ''\n",
    "    except Exception as e: \n",
    "        bad_names.append(stock)\n",
    "        print('bad: {}, {}'.format(stock, e))   \n",
    "        return stock"
   ]
  },
  {
   "cell_type": "code",
   "execution_count": 7,
   "metadata": {
    "scrolled": false
   },
   "outputs": [
    {
     "name": "stderr",
     "output_type": "stream",
     "text": [
      " 17%|█▋        | 67/393 [00:25<01:28,  3.66it/s]"
     ]
    },
    {
     "name": "stdout",
     "output_type": "stream",
     "text": [
      "bad: CPRI, (Status 404) (Quandl Error QECx02) You have submitted an incorrect Quandl code. Please check your Quandl codes and try again.\n"
     ]
    },
    {
     "name": "stderr",
     "output_type": "stream",
     "text": [
      " 50%|████▉     | 196/393 [01:05<00:49,  4.02it/s]"
     ]
    },
    {
     "name": "stdout",
     "output_type": "stream",
     "text": [
      "bad: JEF, (Status 404) (Quandl Error QECx02) You have submitted an incorrect Quandl code. Please check your Quandl codes and try again.\n"
     ]
    },
    {
     "name": "stderr",
     "output_type": "stream",
     "text": [
      " 55%|█████▍    | 215/393 [01:12<00:55,  3.20it/s]"
     ]
    },
    {
     "name": "stdout",
     "output_type": "stream",
     "text": [
      "bad: LIN, (Status 404) (Quandl Error QECx02) You have submitted an incorrect Quandl code. Please check your Quandl codes and try again.\n"
     ]
    },
    {
     "name": "stderr",
     "output_type": "stream",
     "text": [
      "100%|██████████| 393/393 [02:15<00:00,  1.83it/s]"
     ]
    },
    {
     "name": "stdout",
     "output_type": "stream",
     "text": [
      "getSandP_threaded.py\n",
      "The threaded script took 2 minutes and 15 seconds to run.\n"
     ]
    },
    {
     "name": "stderr",
     "output_type": "stream",
     "text": [
      "\n"
     ]
    }
   ],
   "source": [
    "from datetime import datetime\n",
    "from multiprocessing import Pool, Array\n",
    "from itertools import repeat\n",
    "import tqdm\n",
    "\n",
    "\n",
    "now_time = datetime.now()\n",
    "bad_names =[] #to keep track of failed queries\n",
    "\n",
    "max_workers = 10\n",
    "\n",
    "workers = min(max_workers, len(common_sp500_tickers)) #in case a smaller number of stocks than threads was passed in\n",
    "p = Pool(max_workers)\n",
    "bad_names = list(tqdm.tqdm(p.imap_unordered(download_stock, zip(common_sp500_tickers, repeat(start_date), repeat(end_date))), total=len(common_sp500_tickers)))\n",
    "\n",
    "\n",
    "\"\"\" Save failed queries to a text file to retry \"\"\"\n",
    "if len(bad_names) > 0:\n",
    "    with open('failed_queries.txt','w') as outfile:\n",
    "        for name in bad_names:\n",
    "            outfile.write(name+'\\n')\n",
    "\n",
    "#timing:\n",
    "finish_time = datetime.now()\n",
    "duration = finish_time - now_time\n",
    "minutes, seconds = divmod(duration.seconds, 60)\n",
    "print('getSandP_threaded.py')\n",
    "print(f'The threaded script took {minutes} minutes and {seconds} seconds to run.')\n",
    "#The threaded script took 0 minutes and 31 seconds to run."
   ]
  },
  {
   "cell_type": "code",
   "execution_count": 9,
   "metadata": {},
   "outputs": [
    {
     "data": {
      "text/html": [
       "<div>\n",
       "<style scoped>\n",
       "    .dataframe tbody tr th:only-of-type {\n",
       "        vertical-align: middle;\n",
       "    }\n",
       "\n",
       "    .dataframe tbody tr th {\n",
       "        vertical-align: top;\n",
       "    }\n",
       "\n",
       "    .dataframe thead th {\n",
       "        text-align: right;\n",
       "    }\n",
       "</style>\n",
       "<table border=\"1\" class=\"dataframe\">\n",
       "  <thead>\n",
       "    <tr style=\"text-align: right;\">\n",
       "      <th></th>\n",
       "      <th>Date</th>\n",
       "      <th>Open</th>\n",
       "      <th>High</th>\n",
       "      <th>Low</th>\n",
       "      <th>Close</th>\n",
       "      <th>Adj Close</th>\n",
       "      <th>Volume</th>\n",
       "    </tr>\n",
       "  </thead>\n",
       "  <tbody>\n",
       "    <tr>\n",
       "      <th>0</th>\n",
       "      <td>4/14/14</td>\n",
       "      <td>1818.180054</td>\n",
       "      <td>1834.189941</td>\n",
       "      <td>1815.800049</td>\n",
       "      <td>1830.609985</td>\n",
       "      <td>1830.609985</td>\n",
       "      <td>3111540000</td>\n",
       "    </tr>\n",
       "    <tr>\n",
       "      <th>1</th>\n",
       "      <td>4/15/14</td>\n",
       "      <td>1831.449951</td>\n",
       "      <td>1844.020020</td>\n",
       "      <td>1816.290039</td>\n",
       "      <td>1842.979980</td>\n",
       "      <td>1842.979980</td>\n",
       "      <td>3736440000</td>\n",
       "    </tr>\n",
       "    <tr>\n",
       "      <th>2</th>\n",
       "      <td>4/16/14</td>\n",
       "      <td>1846.010010</td>\n",
       "      <td>1862.310059</td>\n",
       "      <td>1846.010010</td>\n",
       "      <td>1862.310059</td>\n",
       "      <td>1862.310059</td>\n",
       "      <td>3155080000</td>\n",
       "    </tr>\n",
       "    <tr>\n",
       "      <th>3</th>\n",
       "      <td>4/17/14</td>\n",
       "      <td>1861.729980</td>\n",
       "      <td>1869.630005</td>\n",
       "      <td>1856.719971</td>\n",
       "      <td>1864.849976</td>\n",
       "      <td>1864.849976</td>\n",
       "      <td>3341430000</td>\n",
       "    </tr>\n",
       "    <tr>\n",
       "      <th>4</th>\n",
       "      <td>4/21/14</td>\n",
       "      <td>1865.790039</td>\n",
       "      <td>1871.890015</td>\n",
       "      <td>1863.180054</td>\n",
       "      <td>1871.890015</td>\n",
       "      <td>1871.890015</td>\n",
       "      <td>2642500000</td>\n",
       "    </tr>\n",
       "  </tbody>\n",
       "</table>\n",
       "</div>"
      ],
      "text/plain": [
       "      Date         Open         High          Low        Close    Adj Close  \\\n",
       "0  4/14/14  1818.180054  1834.189941  1815.800049  1830.609985  1830.609985   \n",
       "1  4/15/14  1831.449951  1844.020020  1816.290039  1842.979980  1842.979980   \n",
       "2  4/16/14  1846.010010  1862.310059  1846.010010  1862.310059  1862.310059   \n",
       "3  4/17/14  1861.729980  1869.630005  1856.719971  1864.849976  1864.849976   \n",
       "4  4/21/14  1865.790039  1871.890015  1863.180054  1871.890015  1871.890015   \n",
       "\n",
       "       Volume  \n",
       "0  3111540000  \n",
       "1  3736440000  \n",
       "2  3155080000  \n",
       "3  3341430000  \n",
       "4  2642500000  "
      ]
     },
     "execution_count": 9,
     "metadata": {},
     "output_type": "execute_result"
    }
   ],
   "source": [
    "# pd.core.common.is_list_like = pd.api.types.is_list_like\n",
    "# import pandas_datareader.data as web\n",
    "# sp500inx = web.DataReader('^GSPC', 'yahoo', start_date, end_date)\n",
    "\n",
    "# sp500inx['Date'] = sp500inx.index\n",
    "# sp500inx = pd.read_csv('sp500_index.csv')\n",
    "download_stock(['d:^spx', start_date, end_date])\n",
    "sp500inx = pd.read_csv('./individual_stock/^SPX_data.csv')\n",
    "sp500inx.head()"
   ]
  },
  {
   "cell_type": "code",
   "execution_count": 12,
   "metadata": {},
   "outputs": [],
   "source": [
    "sp500inx['Date'] = pd.to_datetime(sp500inx['Date'], format='%Y-%m-%d')"
   ]
  },
  {
   "cell_type": "code",
   "execution_count": 13,
   "metadata": {},
   "outputs": [],
   "source": [
    "sp500inx['Date'] = sp500inx['Date'].dt.date\n",
    "sp500inx = sp500inx[['Date', 'Close']]\n",
    "sp500inx.columns=['Date', 'SP500']"
   ]
  },
  {
   "cell_type": "code",
   "execution_count": 14,
   "metadata": {},
   "outputs": [
    {
     "data": {
      "text/html": [
       "<div>\n",
       "<style scoped>\n",
       "    .dataframe tbody tr th:only-of-type {\n",
       "        vertical-align: middle;\n",
       "    }\n",
       "\n",
       "    .dataframe tbody tr th {\n",
       "        vertical-align: top;\n",
       "    }\n",
       "\n",
       "    .dataframe thead th {\n",
       "        text-align: right;\n",
       "    }\n",
       "</style>\n",
       "<table border=\"1\" class=\"dataframe\">\n",
       "  <thead>\n",
       "    <tr style=\"text-align: right;\">\n",
       "      <th></th>\n",
       "      <th>Date</th>\n",
       "      <th>SP500</th>\n",
       "    </tr>\n",
       "  </thead>\n",
       "  <tbody>\n",
       "    <tr>\n",
       "      <th>0</th>\n",
       "      <td>2014-04-14</td>\n",
       "      <td>1830.609985</td>\n",
       "    </tr>\n",
       "    <tr>\n",
       "      <th>1</th>\n",
       "      <td>2014-04-15</td>\n",
       "      <td>1842.979980</td>\n",
       "    </tr>\n",
       "    <tr>\n",
       "      <th>2</th>\n",
       "      <td>2014-04-16</td>\n",
       "      <td>1862.310059</td>\n",
       "    </tr>\n",
       "    <tr>\n",
       "      <th>3</th>\n",
       "      <td>2014-04-17</td>\n",
       "      <td>1864.849976</td>\n",
       "    </tr>\n",
       "    <tr>\n",
       "      <th>4</th>\n",
       "      <td>2014-04-21</td>\n",
       "      <td>1871.890015</td>\n",
       "    </tr>\n",
       "  </tbody>\n",
       "</table>\n",
       "</div>"
      ],
      "text/plain": [
       "         Date        SP500\n",
       "0  2014-04-14  1830.609985\n",
       "1  2014-04-15  1842.979980\n",
       "2  2014-04-16  1862.310059\n",
       "3  2014-04-17  1864.849976\n",
       "4  2014-04-21  1871.890015"
      ]
     },
     "execution_count": 14,
     "metadata": {},
     "output_type": "execute_result"
    }
   ],
   "source": [
    "sp500inx = sp500inx.reset_index(drop=True)"
   ]
  },
  {
   "cell_type": "code",
   "execution_count": 15,
   "metadata": {},
   "outputs": [],
   "source": [
    "\n",
    "import glob\n",
    "csv_files = glob.glob('raw_eod_data/*_data.csv')\n",
    "file = csv_files[0]\n",
    "stock_name = file.split('/')[1].split('_')[:-1]\n",
    "stock_name = '_'.join(stock_name)\n",
    "df = pd.read_csv(csv_files[0])[['date', 'adjClose']]\n",
    "df.columns = ['Date', stock_name]\n",
    "for f in csv_files[1:]:\n",
    "#     df = pd.merge(df, pd.read_csv(f)[['Date', 'Adj. Close']], how='inner', on='Date')\n",
    "#     print(df.shape)\n",
    "    df_ = pd.read_csv(f)[['date', 'adjClose']]\n",
    "    stock_name = f.split('/')[1].split('_')[:-1]\n",
    "    stock_name = '_'.join(stock_name)\n",
    "    df_.columns = ['Date', stock_name]\n",
    "    if df_.shape[0]>=990:\n",
    "        df = pd.merge(df, df_, how='left', on='Date')\n",
    "    else:\n",
    "        print('skip {} as the shape of the data is ({}, {}), which is less that 995 data point'.format(f.split('_')[0], df_.shape[0], df_.shape[1]))"
   ]
  },
  {
   "cell_type": "code",
   "execution_count": 35,
   "metadata": {},
   "outputs": [],
   "source": [
    "# df.Date[0]\n",
    "df['Date'] = pd.to_datetime(df['Date'])\n",
    "df['Date'] = df['Date'].dt.date"
   ]
  },
  {
   "cell_type": "code",
   "execution_count": 37,
   "metadata": {},
   "outputs": [],
   "source": [
    "df = pd.merge(df, sp500inx, how='inner', on='Date')\n",
    "df = df.set_index('Date', drop=True)"
   ]
  },
  {
   "cell_type": "code",
   "execution_count": 40,
   "metadata": {},
   "outputs": [
    {
     "name": "stdout",
     "output_type": "stream",
     "text": [
      "0\n"
     ]
    },
    {
     "data": {
      "text/html": [
       "<div>\n",
       "<style scoped>\n",
       "    .dataframe tbody tr th:only-of-type {\n",
       "        vertical-align: middle;\n",
       "    }\n",
       "\n",
       "    .dataframe tbody tr th {\n",
       "        vertical-align: top;\n",
       "    }\n",
       "\n",
       "    .dataframe thead th {\n",
       "        text-align: right;\n",
       "    }\n",
       "</style>\n",
       "<table border=\"1\" class=\"dataframe\">\n",
       "  <thead>\n",
       "    <tr style=\"text-align: right;\">\n",
       "      <th></th>\n",
       "      <th>XRX</th>\n",
       "      <th>GS</th>\n",
       "      <th>MTB</th>\n",
       "      <th>V</th>\n",
       "      <th>CTAS</th>\n",
       "      <th>APH</th>\n",
       "      <th>BBT</th>\n",
       "      <th>RHI</th>\n",
       "      <th>HD</th>\n",
       "      <th>PEP</th>\n",
       "      <th>...</th>\n",
       "      <th>HAL</th>\n",
       "      <th>CERN</th>\n",
       "      <th>SJM</th>\n",
       "      <th>WY</th>\n",
       "      <th>WFC</th>\n",
       "      <th>QCOM</th>\n",
       "      <th>COF</th>\n",
       "      <th>COG</th>\n",
       "      <th>F</th>\n",
       "      <th>SP500</th>\n",
       "    </tr>\n",
       "    <tr>\n",
       "      <th>Date</th>\n",
       "      <th></th>\n",
       "      <th></th>\n",
       "      <th></th>\n",
       "      <th></th>\n",
       "      <th></th>\n",
       "      <th></th>\n",
       "      <th></th>\n",
       "      <th></th>\n",
       "      <th></th>\n",
       "      <th></th>\n",
       "      <th></th>\n",
       "      <th></th>\n",
       "      <th></th>\n",
       "      <th></th>\n",
       "      <th></th>\n",
       "      <th></th>\n",
       "      <th></th>\n",
       "      <th></th>\n",
       "      <th></th>\n",
       "      <th></th>\n",
       "      <th></th>\n",
       "    </tr>\n",
       "  </thead>\n",
       "  <tbody>\n",
       "    <tr>\n",
       "      <th>2014-04-15</th>\n",
       "      <td>-0.003524</td>\n",
       "      <td>0.001163</td>\n",
       "      <td>-0.003806</td>\n",
       "      <td>0.015124</td>\n",
       "      <td>0.000533</td>\n",
       "      <td>0.001535</td>\n",
       "      <td>0.007981</td>\n",
       "      <td>0.002993</td>\n",
       "      <td>-0.001053</td>\n",
       "      <td>0.004907</td>\n",
       "      <td>...</td>\n",
       "      <td>0.015064</td>\n",
       "      <td>0.020806</td>\n",
       "      <td>-0.003250</td>\n",
       "      <td>-0.004661</td>\n",
       "      <td>0.013926</td>\n",
       "      <td>0.004423</td>\n",
       "      <td>0.006211</td>\n",
       "      <td>0.006410</td>\n",
       "      <td>0.008917</td>\n",
       "      <td>0.006757</td>\n",
       "    </tr>\n",
       "    <tr>\n",
       "      <th>2014-04-16</th>\n",
       "      <td>0.016799</td>\n",
       "      <td>0.014846</td>\n",
       "      <td>0.010383</td>\n",
       "      <td>0.026023</td>\n",
       "      <td>0.011005</td>\n",
       "      <td>0.022110</td>\n",
       "      <td>0.004853</td>\n",
       "      <td>0.032082</td>\n",
       "      <td>0.009092</td>\n",
       "      <td>0.009647</td>\n",
       "      <td>...</td>\n",
       "      <td>0.008838</td>\n",
       "      <td>0.000185</td>\n",
       "      <td>0.018406</td>\n",
       "      <td>0.005043</td>\n",
       "      <td>0.006355</td>\n",
       "      <td>0.008680</td>\n",
       "      <td>0.008588</td>\n",
       "      <td>0.032757</td>\n",
       "      <td>0.014520</td>\n",
       "      <td>0.010488</td>\n",
       "    </tr>\n",
       "    <tr>\n",
       "      <th>2014-04-17</th>\n",
       "      <td>-0.006087</td>\n",
       "      <td>0.001399</td>\n",
       "      <td>-0.000822</td>\n",
       "      <td>-0.006735</td>\n",
       "      <td>0.011763</td>\n",
       "      <td>0.007925</td>\n",
       "      <td>-0.035841</td>\n",
       "      <td>0.016386</td>\n",
       "      <td>0.006660</td>\n",
       "      <td>0.009201</td>\n",
       "      <td>...</td>\n",
       "      <td>0.006612</td>\n",
       "      <td>0.000371</td>\n",
       "      <td>-0.001343</td>\n",
       "      <td>-0.001075</td>\n",
       "      <td>-0.003259</td>\n",
       "      <td>0.014218</td>\n",
       "      <td>-0.003592</td>\n",
       "      <td>0.025551</td>\n",
       "      <td>-0.004356</td>\n",
       "      <td>0.001364</td>\n",
       "    </tr>\n",
       "    <tr>\n",
       "      <th>2014-04-21</th>\n",
       "      <td>0.003500</td>\n",
       "      <td>0.002287</td>\n",
       "      <td>-0.003044</td>\n",
       "      <td>0.005674</td>\n",
       "      <td>-0.004164</td>\n",
       "      <td>0.002550</td>\n",
       "      <td>-0.003427</td>\n",
       "      <td>0.000948</td>\n",
       "      <td>0.011286</td>\n",
       "      <td>0.004208</td>\n",
       "      <td>...</td>\n",
       "      <td>0.033169</td>\n",
       "      <td>0.002037</td>\n",
       "      <td>0.000310</td>\n",
       "      <td>0.011841</td>\n",
       "      <td>0.003883</td>\n",
       "      <td>-0.004796</td>\n",
       "      <td>0.002136</td>\n",
       "      <td>0.005727</td>\n",
       "      <td>-0.001250</td>\n",
       "      <td>0.003775</td>\n",
       "    </tr>\n",
       "    <tr>\n",
       "      <th>2014-04-22</th>\n",
       "      <td>0.010462</td>\n",
       "      <td>0.016857</td>\n",
       "      <td>0.006437</td>\n",
       "      <td>0.004017</td>\n",
       "      <td>0.007144</td>\n",
       "      <td>0.006889</td>\n",
       "      <td>0.008201</td>\n",
       "      <td>0.018238</td>\n",
       "      <td>0.021934</td>\n",
       "      <td>-0.008963</td>\n",
       "      <td>...</td>\n",
       "      <td>0.007311</td>\n",
       "      <td>-0.007392</td>\n",
       "      <td>0.002068</td>\n",
       "      <td>0.008865</td>\n",
       "      <td>0.002239</td>\n",
       "      <td>-0.003954</td>\n",
       "      <td>0.000799</td>\n",
       "      <td>0.015091</td>\n",
       "      <td>0.007509</td>\n",
       "      <td>0.004092</td>\n",
       "    </tr>\n",
       "  </tbody>\n",
       "</table>\n",
       "<p>5 rows × 378 columns</p>\n",
       "</div>"
      ],
      "text/plain": [
       "                 XRX        GS       MTB         V      CTAS       APH  \\\n",
       "Date                                                                     \n",
       "2014-04-15 -0.003524  0.001163 -0.003806  0.015124  0.000533  0.001535   \n",
       "2014-04-16  0.016799  0.014846  0.010383  0.026023  0.011005  0.022110   \n",
       "2014-04-17 -0.006087  0.001399 -0.000822 -0.006735  0.011763  0.007925   \n",
       "2014-04-21  0.003500  0.002287 -0.003044  0.005674 -0.004164  0.002550   \n",
       "2014-04-22  0.010462  0.016857  0.006437  0.004017  0.007144  0.006889   \n",
       "\n",
       "                 BBT       RHI        HD       PEP    ...          HAL  \\\n",
       "Date                                                  ...                \n",
       "2014-04-15  0.007981  0.002993 -0.001053  0.004907    ...     0.015064   \n",
       "2014-04-16  0.004853  0.032082  0.009092  0.009647    ...     0.008838   \n",
       "2014-04-17 -0.035841  0.016386  0.006660  0.009201    ...     0.006612   \n",
       "2014-04-21 -0.003427  0.000948  0.011286  0.004208    ...     0.033169   \n",
       "2014-04-22  0.008201  0.018238  0.021934 -0.008963    ...     0.007311   \n",
       "\n",
       "                CERN       SJM        WY       WFC      QCOM       COF  \\\n",
       "Date                                                                     \n",
       "2014-04-15  0.020806 -0.003250 -0.004661  0.013926  0.004423  0.006211   \n",
       "2014-04-16  0.000185  0.018406  0.005043  0.006355  0.008680  0.008588   \n",
       "2014-04-17  0.000371 -0.001343 -0.001075 -0.003259  0.014218 -0.003592   \n",
       "2014-04-21  0.002037  0.000310  0.011841  0.003883 -0.004796  0.002136   \n",
       "2014-04-22 -0.007392  0.002068  0.008865  0.002239 -0.003954  0.000799   \n",
       "\n",
       "                 COG         F     SP500  \n",
       "Date                                      \n",
       "2014-04-15  0.006410  0.008917  0.006757  \n",
       "2014-04-16  0.032757  0.014520  0.010488  \n",
       "2014-04-17  0.025551 -0.004356  0.001364  \n",
       "2014-04-21  0.005727 -0.001250  0.003775  \n",
       "2014-04-22  0.015091  0.007509  0.004092  \n",
       "\n",
       "[5 rows x 378 columns]"
      ]
     },
     "execution_count": 40,
     "metadata": {},
     "output_type": "execute_result"
    }
   ],
   "source": [
    "pct_df = df.pct_change(fill_method='ffill')\n",
    "pct_df = pct_df.iloc[1:]\n",
    "pct_df.to_csv('sp500_pct.csv')"
   ]
  },
  {
   "cell_type": "code",
   "execution_count": 41,
   "metadata": {
    "scrolled": true,
    "pycharm": {
     "name": "#%%\n"
    }
   },
   "outputs": [
    {
     "data": {
      "text/plain": [
       "<matplotlib.axes._subplots.AxesSubplot at 0x1a1b105e80>"
      ]
     },
     "execution_count": 41,
     "metadata": {},
     "output_type": "execute_result"
    }
   ],
   "source": [
    "# import seaborn as sns\n",
    "# pct_df['Date'] = pct_df.index\n",
    "# sns.lineplot(data=pct_df.melt('Date', var_name='tickers', value_name='vals'), x='Date', y='vals', hue='tickers')\n",
    "\n",
    "\n"
   ]
  }
 ],
 "metadata": {
  "kernelspec": {
   "name": "myenv",
   "language": "python",
   "display_name": "arbitraryElasticNet"
  },
  "language_info": {
   "codemirror_mode": {
    "name": "ipython",
    "version": 3
   },
   "file_extension": ".py",
   "mimetype": "text/x-python",
   "name": "python",
   "nbconvert_exporter": "python",
   "pygments_lexer": "ipython3",
   "version": "3.6.5"
  }
 },
 "nbformat": 4,
 "nbformat_minor": 2
}